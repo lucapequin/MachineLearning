{
 "cells": [
  {
   "cell_type": "markdown",
   "metadata": {},
   "source": [
    "# Exercise 6\n",
    "\n",
    "## SVM & Regularization\n",
    "\n",
    "\n",
    "For this homework we consider a set of observations on a number of red and white wine varieties involving their chemical properties and ranking by tasters. Wine industry shows a recent growth spurt as social drinking is on the rise. The price of wine depends on a rather abstract concept of wine appreciation by wine tasters, opinion among whom may have a high degree of variability. Pricing of wine depends on such a volatile factor to some extent. Another key factor in wine certification and quality assessment is physicochemical tests which are laboratory-based and takes into account factors like acidity, pH level, presence of sugar and other chemical properties. For the wine market, it would be of interest if human quality of tasting can be related to the chemical properties of wine so that certification and quality assessment and assurance process is more controlled.\n",
    "\n",
    "Two datasets are available of which one dataset is on red wine and have 1599 different varieties and the other is on white wine and have 4898 varieties. All wines are produced in a particular area of Portugal. Data are collected on 12 different properties of the wines one of which is Quality, based on sensory data, and the rest are on chemical properties of the wines including density, acidity, alcohol content etc. All chemical properties of wines are continuous variables. Quality is an ordinal variable with possible ranking from 1 (worst) to 10 (best). Each variety of wine is tasted by three independent tasters and the final rank assigned is the median rank given by the tasters.\n",
    "\n",
    "A predictive model developed on this data is expected to provide guidance to vineyards regarding quality and price expected on their produce without heavy reliance on volatility of wine tasters."
   ]
  },
  {
   "cell_type": "code",
   "execution_count": 1,
   "metadata": {},
   "outputs": [],
   "source": [
    "import pandas as pd\n",
    "import numpy as np"
   ]
  },
  {
   "cell_type": "code",
   "execution_count": 2,
   "metadata": {},
   "outputs": [],
   "source": [
    "data_r = pd.read_csv('https://github.com/albahnsen/PracticalMachineLearningClass/raw/master/datasets/Wine_data_red.csv')\n",
    "data_w = pd.read_csv('https://github.com/albahnsen/PracticalMachineLearningClass/raw/master/datasets/Wine_data_white.csv')"
   ]
  },
  {
   "cell_type": "code",
   "execution_count": 3,
   "metadata": {},
   "outputs": [
    {
     "data": {
      "text/html": [
       "<div>\n",
       "<style scoped>\n",
       "    .dataframe tbody tr th:only-of-type {\n",
       "        vertical-align: middle;\n",
       "    }\n",
       "\n",
       "    .dataframe tbody tr th {\n",
       "        vertical-align: top;\n",
       "    }\n",
       "\n",
       "    .dataframe thead th {\n",
       "        text-align: right;\n",
       "    }\n",
       "</style>\n",
       "<table border=\"1\" class=\"dataframe\">\n",
       "  <thead>\n",
       "    <tr style=\"text-align: right;\">\n",
       "      <th></th>\n",
       "      <th>fixed acidity</th>\n",
       "      <th>volatile acidity</th>\n",
       "      <th>citric acid</th>\n",
       "      <th>residual sugar</th>\n",
       "      <th>chlorides</th>\n",
       "      <th>free sulfur dioxide</th>\n",
       "      <th>total sulfur dioxide</th>\n",
       "      <th>density</th>\n",
       "      <th>pH</th>\n",
       "      <th>sulphates</th>\n",
       "      <th>alcohol</th>\n",
       "      <th>quality</th>\n",
       "      <th>type</th>\n",
       "    </tr>\n",
       "  </thead>\n",
       "  <tbody>\n",
       "    <tr>\n",
       "      <th>0</th>\n",
       "      <td>7.0</td>\n",
       "      <td>0.27</td>\n",
       "      <td>0.36</td>\n",
       "      <td>20.7</td>\n",
       "      <td>0.045</td>\n",
       "      <td>45.0</td>\n",
       "      <td>170.0</td>\n",
       "      <td>1.0010</td>\n",
       "      <td>3.00</td>\n",
       "      <td>0.45</td>\n",
       "      <td>8.8</td>\n",
       "      <td>6</td>\n",
       "      <td>white</td>\n",
       "    </tr>\n",
       "    <tr>\n",
       "      <th>1</th>\n",
       "      <td>6.3</td>\n",
       "      <td>0.30</td>\n",
       "      <td>0.34</td>\n",
       "      <td>1.6</td>\n",
       "      <td>0.049</td>\n",
       "      <td>14.0</td>\n",
       "      <td>132.0</td>\n",
       "      <td>0.9940</td>\n",
       "      <td>3.30</td>\n",
       "      <td>0.49</td>\n",
       "      <td>9.5</td>\n",
       "      <td>6</td>\n",
       "      <td>white</td>\n",
       "    </tr>\n",
       "    <tr>\n",
       "      <th>2</th>\n",
       "      <td>8.1</td>\n",
       "      <td>0.28</td>\n",
       "      <td>0.40</td>\n",
       "      <td>6.9</td>\n",
       "      <td>0.050</td>\n",
       "      <td>30.0</td>\n",
       "      <td>97.0</td>\n",
       "      <td>0.9951</td>\n",
       "      <td>3.26</td>\n",
       "      <td>0.44</td>\n",
       "      <td>10.1</td>\n",
       "      <td>6</td>\n",
       "      <td>white</td>\n",
       "    </tr>\n",
       "    <tr>\n",
       "      <th>3</th>\n",
       "      <td>7.2</td>\n",
       "      <td>0.23</td>\n",
       "      <td>0.32</td>\n",
       "      <td>8.5</td>\n",
       "      <td>0.058</td>\n",
       "      <td>47.0</td>\n",
       "      <td>186.0</td>\n",
       "      <td>0.9956</td>\n",
       "      <td>3.19</td>\n",
       "      <td>0.40</td>\n",
       "      <td>9.9</td>\n",
       "      <td>6</td>\n",
       "      <td>white</td>\n",
       "    </tr>\n",
       "    <tr>\n",
       "      <th>4</th>\n",
       "      <td>7.2</td>\n",
       "      <td>0.23</td>\n",
       "      <td>0.32</td>\n",
       "      <td>8.5</td>\n",
       "      <td>0.058</td>\n",
       "      <td>47.0</td>\n",
       "      <td>186.0</td>\n",
       "      <td>0.9956</td>\n",
       "      <td>3.19</td>\n",
       "      <td>0.40</td>\n",
       "      <td>9.9</td>\n",
       "      <td>6</td>\n",
       "      <td>white</td>\n",
       "    </tr>\n",
       "  </tbody>\n",
       "</table>\n",
       "</div>"
      ],
      "text/plain": [
       "   fixed acidity  volatile acidity  citric acid  residual sugar  chlorides  \\\n",
       "0            7.0              0.27         0.36            20.7      0.045   \n",
       "1            6.3              0.30         0.34             1.6      0.049   \n",
       "2            8.1              0.28         0.40             6.9      0.050   \n",
       "3            7.2              0.23         0.32             8.5      0.058   \n",
       "4            7.2              0.23         0.32             8.5      0.058   \n",
       "\n",
       "   free sulfur dioxide  total sulfur dioxide  density    pH  sulphates  \\\n",
       "0                 45.0                 170.0   1.0010  3.00       0.45   \n",
       "1                 14.0                 132.0   0.9940  3.30       0.49   \n",
       "2                 30.0                  97.0   0.9951  3.26       0.44   \n",
       "3                 47.0                 186.0   0.9956  3.19       0.40   \n",
       "4                 47.0                 186.0   0.9956  3.19       0.40   \n",
       "\n",
       "   alcohol  quality   type  \n",
       "0      8.8        6  white  \n",
       "1      9.5        6  white  \n",
       "2     10.1        6  white  \n",
       "3      9.9        6  white  \n",
       "4      9.9        6  white  "
      ]
     },
     "execution_count": 3,
     "metadata": {},
     "output_type": "execute_result"
    }
   ],
   "source": [
    "data = data_w.assign(type = 'white')\n",
    "data = data.append(data_r.assign(type = 'red'), ignore_index=True)\n",
    "data.head()"
   ]
  },
  {
   "cell_type": "markdown",
   "metadata": {},
   "source": [
    "# Exercise 6.1\n",
    "\n",
    "Show the frecuency table of the quality by type of wine"
   ]
  },
  {
   "cell_type": "code",
   "execution_count": 4,
   "metadata": {},
   "outputs": [
    {
     "data": {
      "text/html": [
       "<div>\n",
       "<style scoped>\n",
       "    .dataframe tbody tr th:only-of-type {\n",
       "        vertical-align: middle;\n",
       "    }\n",
       "\n",
       "    .dataframe tbody tr th {\n",
       "        vertical-align: top;\n",
       "    }\n",
       "\n",
       "    .dataframe thead tr th {\n",
       "        text-align: left;\n",
       "    }\n",
       "\n",
       "    .dataframe thead tr:last-of-type th {\n",
       "        text-align: right;\n",
       "    }\n",
       "</style>\n",
       "<table border=\"1\" class=\"dataframe\">\n",
       "  <thead>\n",
       "    <tr>\n",
       "      <th></th>\n",
       "      <th colspan=\"2\" halign=\"left\">density</th>\n",
       "    </tr>\n",
       "    <tr>\n",
       "      <th>type</th>\n",
       "      <th>red</th>\n",
       "      <th>white</th>\n",
       "    </tr>\n",
       "    <tr>\n",
       "      <th>quality</th>\n",
       "      <th></th>\n",
       "      <th></th>\n",
       "    </tr>\n",
       "  </thead>\n",
       "  <tbody>\n",
       "    <tr>\n",
       "      <th>3</th>\n",
       "      <td>10.0</td>\n",
       "      <td>20.0</td>\n",
       "    </tr>\n",
       "    <tr>\n",
       "      <th>4</th>\n",
       "      <td>53.0</td>\n",
       "      <td>163.0</td>\n",
       "    </tr>\n",
       "    <tr>\n",
       "      <th>5</th>\n",
       "      <td>681.0</td>\n",
       "      <td>1457.0</td>\n",
       "    </tr>\n",
       "    <tr>\n",
       "      <th>6</th>\n",
       "      <td>638.0</td>\n",
       "      <td>2198.0</td>\n",
       "    </tr>\n",
       "    <tr>\n",
       "      <th>7</th>\n",
       "      <td>199.0</td>\n",
       "      <td>880.0</td>\n",
       "    </tr>\n",
       "    <tr>\n",
       "      <th>8</th>\n",
       "      <td>18.0</td>\n",
       "      <td>175.0</td>\n",
       "    </tr>\n",
       "    <tr>\n",
       "      <th>9</th>\n",
       "      <td>NaN</td>\n",
       "      <td>5.0</td>\n",
       "    </tr>\n",
       "  </tbody>\n",
       "</table>\n",
       "</div>"
      ],
      "text/plain": [
       "        density        \n",
       "type        red   white\n",
       "quality                \n",
       "3          10.0    20.0\n",
       "4          53.0   163.0\n",
       "5         681.0  1457.0\n",
       "6         638.0  2198.0\n",
       "7         199.0   880.0\n",
       "8          18.0   175.0\n",
       "9           NaN     5.0"
      ]
     },
     "execution_count": 4,
     "metadata": {},
     "output_type": "execute_result"
    }
   ],
   "source": [
    "Aux = data[[\"type\",\"quality\",\"density\"]].groupby([\"quality\",\"type\"]).count().unstack()\n",
    "Aux"
   ]
  },
  {
   "cell_type": "markdown",
   "metadata": {},
   "source": [
    "# SVM"
   ]
  },
  {
   "cell_type": "markdown",
   "metadata": {},
   "source": [
    "# Exercise 6.2\n",
    "\n",
    "* Standarized the features (not the quality)\n",
    "* Create a binary target for each type of wine\n",
    "* Create two Linear SVM's for the white and red wines, repectively.\n"
   ]
  },
  {
   "cell_type": "markdown",
   "metadata": {},
   "source": [
    "**Create a binary target for each type of wine**"
   ]
  },
  {
   "cell_type": "code",
   "execution_count": 5,
   "metadata": {},
   "outputs": [
    {
     "data": {
      "text/html": [
       "<div>\n",
       "<style scoped>\n",
       "    .dataframe tbody tr th:only-of-type {\n",
       "        vertical-align: middle;\n",
       "    }\n",
       "\n",
       "    .dataframe tbody tr th {\n",
       "        vertical-align: top;\n",
       "    }\n",
       "\n",
       "    .dataframe thead th {\n",
       "        text-align: right;\n",
       "    }\n",
       "</style>\n",
       "<table border=\"1\" class=\"dataframe\">\n",
       "  <thead>\n",
       "    <tr style=\"text-align: right;\">\n",
       "      <th></th>\n",
       "      <th>fixed acidity</th>\n",
       "      <th>volatile acidity</th>\n",
       "      <th>citric acid</th>\n",
       "      <th>residual sugar</th>\n",
       "      <th>chlorides</th>\n",
       "      <th>free sulfur dioxide</th>\n",
       "      <th>total sulfur dioxide</th>\n",
       "      <th>density</th>\n",
       "      <th>pH</th>\n",
       "      <th>sulphates</th>\n",
       "      <th>alcohol</th>\n",
       "      <th>quality</th>\n",
       "      <th>type</th>\n",
       "      <th>quality2</th>\n",
       "    </tr>\n",
       "  </thead>\n",
       "  <tbody>\n",
       "    <tr>\n",
       "      <th>0</th>\n",
       "      <td>7.0</td>\n",
       "      <td>0.27</td>\n",
       "      <td>0.36</td>\n",
       "      <td>20.7</td>\n",
       "      <td>0.045</td>\n",
       "      <td>45.0</td>\n",
       "      <td>170.0</td>\n",
       "      <td>1.0010</td>\n",
       "      <td>3.00</td>\n",
       "      <td>0.45</td>\n",
       "      <td>8.8</td>\n",
       "      <td>6</td>\n",
       "      <td>white</td>\n",
       "      <td>1</td>\n",
       "    </tr>\n",
       "    <tr>\n",
       "      <th>1</th>\n",
       "      <td>6.3</td>\n",
       "      <td>0.30</td>\n",
       "      <td>0.34</td>\n",
       "      <td>1.6</td>\n",
       "      <td>0.049</td>\n",
       "      <td>14.0</td>\n",
       "      <td>132.0</td>\n",
       "      <td>0.9940</td>\n",
       "      <td>3.30</td>\n",
       "      <td>0.49</td>\n",
       "      <td>9.5</td>\n",
       "      <td>6</td>\n",
       "      <td>white</td>\n",
       "      <td>1</td>\n",
       "    </tr>\n",
       "    <tr>\n",
       "      <th>2</th>\n",
       "      <td>8.1</td>\n",
       "      <td>0.28</td>\n",
       "      <td>0.40</td>\n",
       "      <td>6.9</td>\n",
       "      <td>0.050</td>\n",
       "      <td>30.0</td>\n",
       "      <td>97.0</td>\n",
       "      <td>0.9951</td>\n",
       "      <td>3.26</td>\n",
       "      <td>0.44</td>\n",
       "      <td>10.1</td>\n",
       "      <td>6</td>\n",
       "      <td>white</td>\n",
       "      <td>1</td>\n",
       "    </tr>\n",
       "    <tr>\n",
       "      <th>3</th>\n",
       "      <td>7.2</td>\n",
       "      <td>0.23</td>\n",
       "      <td>0.32</td>\n",
       "      <td>8.5</td>\n",
       "      <td>0.058</td>\n",
       "      <td>47.0</td>\n",
       "      <td>186.0</td>\n",
       "      <td>0.9956</td>\n",
       "      <td>3.19</td>\n",
       "      <td>0.40</td>\n",
       "      <td>9.9</td>\n",
       "      <td>6</td>\n",
       "      <td>white</td>\n",
       "      <td>1</td>\n",
       "    </tr>\n",
       "    <tr>\n",
       "      <th>4</th>\n",
       "      <td>7.2</td>\n",
       "      <td>0.23</td>\n",
       "      <td>0.32</td>\n",
       "      <td>8.5</td>\n",
       "      <td>0.058</td>\n",
       "      <td>47.0</td>\n",
       "      <td>186.0</td>\n",
       "      <td>0.9956</td>\n",
       "      <td>3.19</td>\n",
       "      <td>0.40</td>\n",
       "      <td>9.9</td>\n",
       "      <td>6</td>\n",
       "      <td>white</td>\n",
       "      <td>1</td>\n",
       "    </tr>\n",
       "  </tbody>\n",
       "</table>\n",
       "</div>"
      ],
      "text/plain": [
       "   fixed acidity  volatile acidity  citric acid  residual sugar  chlorides  \\\n",
       "0            7.0              0.27         0.36            20.7      0.045   \n",
       "1            6.3              0.30         0.34             1.6      0.049   \n",
       "2            8.1              0.28         0.40             6.9      0.050   \n",
       "3            7.2              0.23         0.32             8.5      0.058   \n",
       "4            7.2              0.23         0.32             8.5      0.058   \n",
       "\n",
       "   free sulfur dioxide  total sulfur dioxide  density    pH  sulphates  \\\n",
       "0                 45.0                 170.0   1.0010  3.00       0.45   \n",
       "1                 14.0                 132.0   0.9940  3.30       0.49   \n",
       "2                 30.0                  97.0   0.9951  3.26       0.44   \n",
       "3                 47.0                 186.0   0.9956  3.19       0.40   \n",
       "4                 47.0                 186.0   0.9956  3.19       0.40   \n",
       "\n",
       "   alcohol  quality   type quality2  \n",
       "0      8.8        6  white        1  \n",
       "1      9.5        6  white        1  \n",
       "2     10.1        6  white        1  \n",
       "3      9.9        6  white        1  \n",
       "4      9.9        6  white        1  "
      ]
     },
     "execution_count": 5,
     "metadata": {},
     "output_type": "execute_result"
    }
   ],
   "source": [
    "data[\"quality2\"]= data[\"quality\"].map({3:'0',4:'0',5:'0',6:'1',7:'1',8:'1',9:'1'})\n",
    "data.head()"
   ]
  },
  {
   "cell_type": "code",
   "execution_count": 6,
   "metadata": {},
   "outputs": [],
   "source": [
    "data_blanco=data[data[\"type\"]==\"white\"]\n",
    "data_rojo=data[data[\"type\"]!=\"white\"]\n",
    "#print(data_blanco[[\"quality2\", \"type\"]].groupby(\"quality2\").count())\n",
    "#print(data_rojo[[\"quality2\", \"type\"]].groupby(\"quality2\").count())"
   ]
  },
  {
   "cell_type": "markdown",
   "metadata": {},
   "source": [
    "**Standarized the features (not the quality)**"
   ]
  },
  {
   "cell_type": "code",
   "execution_count": 9,
   "metadata": {},
   "outputs": [],
   "source": [
    "from sklearn.preprocessing import Normalizer\n",
    "data_blanco_norm=Normalizer().fit_transform(data_blanco.loc[:,:\"alcohol\"])\n",
    "data_rojo_norm=Normalizer().fit_transform(data_rojo.loc[:,:\"alcohol\"])"
   ]
  },
  {
   "cell_type": "markdown",
   "metadata": {},
   "source": [
    "**Create two Linear SVM's for the white and red wines, repectively.**"
   ]
  },
  {
   "cell_type": "code",
   "execution_count": 91,
   "metadata": {},
   "outputs": [
    {
     "name": "stdout",
     "output_type": "stream",
     "text": [
      "0.6714285714285714\n",
      "0.61875\n"
     ]
    }
   ],
   "source": [
    "from sklearn.model_selection import train_test_split # Dividir en train y test\n",
    "X_blanco=data_blanco_norm\n",
    "Y_blanco=data_blanco[\"quality2\"]\n",
    "X_rojo=data_rojo_norm\n",
    "Y_rojo=data_rojo[\"quality2\"]\n",
    "X_blanco_train, X_blanco_test, Y_blanco_train, Y_blanco_test = train_test_split(X_blanco, Y_blanco, test_size=0.30)\n",
    "X_rojo_train, X_rojo_test, Y_rojo_train, Y_rojo_test = train_test_split(X_rojo, Y_rojo, test_size=0.30)\n",
    "\n",
    "from sklearn.svm import SVC # \"Support Vector Classifier\"\n",
    "from sklearn.metrics import accuracy_score\n",
    "clf_blanco = SVC(kernel='linear')\n",
    "clf_blanco.fit(X_blanco_train, Y_blanco_train)\n",
    "y_blanco_predict = clf_blanco.predict(X_blanco_test)\n",
    "blanco_accuracy=accuracy_score(Y_blanco_test, y_blanco_predict, normalize=True)\n",
    "print(blanco_accuracy)\n",
    "\n",
    "clf_rojo = SVC(kernel='linear')\n",
    "clf_rojo.fit(X_rojo_train, Y_rojo_train)\n",
    "y_rojo_predict = clf_rojo.predict(X_rojo_test)\n",
    "rojo_accuracy=accuracy_score(Y_rojo_test, y_rojo_predict, normalize=True)\n",
    "print(rojo_accuracy)"
   ]
  },
  {
   "cell_type": "markdown",
   "metadata": {},
   "source": [
    "# Exercise 6.3\n",
    "\n",
    "Test the two SVM's using the different kernels (‘poly’, ‘rbf’, ‘sigmoid’)\n"
   ]
  },
  {
   "cell_type": "code",
   "execution_count": 93,
   "metadata": {},
   "outputs": [
    {
     "name": "stdout",
     "output_type": "stream",
     "text": [
      "Blanco_Acc_linear: 0.6714285714285714\n",
      "Blanco_Acc_poly: 0.6714285714285714\n",
      "Blanco_Acc_rbf: 0.6714285714285714\n",
      "Blanco_Acc_sigmoid: 0.6714285714285714\n"
     ]
    }
   ],
   "source": [
    "K=['linear','poly', 'rbf', 'sigmoid']\n",
    "Acc = []\n",
    "for k in range(len(K)):\n",
    "    clf_blanco2 = SVC(kernel=K[k]) \n",
    "    clf_blanco2.fit(X_blanco_train, Y_blanco_train)\n",
    "    y_blanco_predict2 = clf_blanco2.predict(X_blanco_test)\n",
    "    blanco_accuracy2=accuracy_score(Y_blanco_test, y_blanco_predict2, normalize=True)\n",
    "    Acc.append(blanco_accuracy2)\n",
    "    print('Blanco_Acc_'+K[k]+':',blanco_accuracy2)"
   ]
  },
  {
   "cell_type": "code",
   "execution_count": 95,
   "metadata": {},
   "outputs": [
    {
     "name": "stdout",
     "output_type": "stream",
     "text": [
      "Rojo_Acc_linear: 0.61875\n",
      "Rojo_Acc_poly: 0.5375\n",
      "Rojo_Acc_rbf: 0.6270833333333333\n",
      "Rojo_Acc_sigmoid: 0.6145833333333334\n"
     ]
    }
   ],
   "source": [
    "Acc = []\n",
    "for k in range(len(K)):\n",
    "    clf_rojo2 = SVC(kernel=K[k]) \n",
    "    clf_rojo2.fit(X_rojo_train, Y_rojo_train)\n",
    "    y_rojo_predict2 = clf_rojo2.predict(X_rojo_test)\n",
    "    rojo_accuracy2=accuracy_score(Y_rojo_test, y_rojo_predict2, normalize=True)\n",
    "    Acc.append(rojo_accuracy2)\n",
    "    print('Rojo_Acc_'+K[k]+':',rojo_accuracy2)"
   ]
  },
  {
   "cell_type": "markdown",
   "metadata": {},
   "source": [
    "# Exercise 6.4\n",
    "Using the best SVM find the parameters that gives the best performance\n",
    "\n",
    "'C': [0.1, 1, 10, 100, 1000], 'gamma': [0.01, 0.001, 0.0001]"
   ]
  },
  {
   "cell_type": "code",
   "execution_count": 101,
   "metadata": {},
   "outputs": [
    {
     "name": "stdout",
     "output_type": "stream",
     "text": [
      "    type       C  gamma1  Accuracy\n",
      "27  Rojo  1000.0    0.01    0.6875\n"
     ]
    }
   ],
   "source": [
    "C = [0.1, 1, 10, 100, 1000]\n",
    "gamma = [0.01, 0.001, 0.0001]\n",
    "cols=['type','C','gamma1','Accuracy']\n",
    "Acc_tabla=pd.DataFrame(columns=cols,data=[])\n",
    "Acc_val=[]\n",
    "k=0\n",
    "for i in range(len(C)):\n",
    "    for j in range(len(gamma)):\n",
    "        clf_blanco3 = SVC(kernel='rbf', C=C[i], gamma=gamma[j])\n",
    "        clf_blanco3.fit(X_blanco_train, Y_blanco_train)\n",
    "        y_blanco_predict3 = clf_blanco3.predict(X_blanco_test)\n",
    "        blanco_accuracy3=accuracy_score(Y_blanco_test, y_blanco_predict3, normalize=True)\n",
    "        Acc_val.append(blanco_accuracy3)\n",
    "        Acc_tabla.loc[k] = ['Blanco',C[i],gamma[j],blanco_accuracy3]\n",
    "        k+=1\n",
    "\n",
    "Acc_val=[]\n",
    "#k=WineAcc.shape[0]\n",
    "#Red Wine\n",
    "for i in range(len(C)):\n",
    "    for j in range(len(gamma)):\n",
    "        clf_rojo3 = SVC(kernel='rbf', C=C[i], gamma=gamma[j])\n",
    "        clf_rojo3.fit(X_rojo_train, Y_rojo_train)\n",
    "        y_rojo_predict3 = clf_rojo3.predict(X_rojo_test)\n",
    "        rojo_accuracy3=accuracy_score(Y_rojo_test, y_rojo_predict3, normalize=True)\n",
    "        Acc_val.append(rojo_accuracy3)\n",
    "        Acc_tabla.loc[k] = ['Rojo',C[i],gamma[j],rojo_accuracy3]\n",
    "        k+=1\n",
    "\n",
    "print(Acc_tabla[Acc_tabla['Accuracy']==np.max(Acc_tabla['Accuracy'])])"
   ]
  },
  {
   "cell_type": "markdown",
   "metadata": {},
   "source": [
    "# Exercise 6.5\n",
    "\n",
    "Compare the results with other methods"
   ]
  },
  {
   "cell_type": "code",
   "execution_count": 106,
   "metadata": {},
   "outputs": [
    {
     "name": "stdout",
     "output_type": "stream",
     "text": [
      "Blanco_Acc_reglog: 0.7414965986394558 \n",
      " Rojo_Acc_reglog: 0.7291666666666666\n"
     ]
    }
   ],
   "source": [
    "from sklearn.linear_model import LogisticRegression\n",
    "logreg_blanco = LogisticRegression(C=1e9, solver='liblinear')\n",
    "logreg_blanco.fit(X_blanco_train, Y_blanco_train)\n",
    "y_blanco_predict4 = logreg_blanco.predict(X_blanco_test)\n",
    "blanco_accuracy4=accuracy_score(Y_blanco_test, y_blanco_predict4, normalize=True)\n",
    "\n",
    "logreg_rojo = LogisticRegression(C=1e9, solver='liblinear')\n",
    "logreg_rojo.fit(X_rojo_train, Y_rojo_train)\n",
    "y_rojo_predict4 = logreg_rojo.predict(X_rojo_test)\n",
    "rojo_accuracy4=accuracy_score(Y_rojo_test, y_rojo_predict4, normalize=True)\n",
    "print('Blanco_Acc_reglog:',blanco_accuracy4,'\\n','Rojo_Acc_reglog:',rojo_accuracy4)"
   ]
  },
  {
   "cell_type": "markdown",
   "metadata": {},
   "source": [
    "Para ambos tipos de vino esta funcionando mucho mejor la regresion logistica que el SVM, en ambos casos es mejor el Accuracy de la regresion que el de cualquiera de las combinaciones de parametros para el SVM."
   ]
  },
  {
   "cell_type": "markdown",
   "metadata": {},
   "source": [
    "# Regularization"
   ]
  },
  {
   "cell_type": "markdown",
   "metadata": {},
   "source": [
    "# Exercise 6.6\n",
    "\n",
    "\n",
    "* Train a linear regression to predict wine quality (Continous)\n",
    "\n",
    "* Analyze the coefficients\n",
    "\n",
    "* Evaluate the RMSE"
   ]
  },
  {
   "cell_type": "code",
   "execution_count": 109,
   "metadata": {},
   "outputs": [
    {
     "name": "stdout",
     "output_type": "stream",
     "text": [
      "Coeficientes: [  -0.27102082 -112.29722231   -6.47547133    1.45233976  -60.89455299\n",
      "    2.19863622    5.71887039 -212.79058155   18.7232475    24.93145285\n",
      "   17.51296378]\n",
      "RMSE= 0.4169574337986386\n"
     ]
    }
   ],
   "source": [
    "from sklearn.linear_model import LinearRegression\n",
    "linreg_blanco = LinearRegression(normalize=True)\n",
    "linreg_blanco.fit(X_blanco_train, Y_blanco_train)\n",
    "y_blanco_predict5 = linreg_blanco.predict(X_blanco_test)\n",
    "print('Coeficientes:',linreg_blanco.coef_)\n",
    "from sklearn import metrics\n",
    "print('RMSE=',np.sqrt(metrics.mean_squared_error(Y_blanco_test, y_blanco_predict5)))"
   ]
  },
  {
   "cell_type": "code",
   "execution_count": 110,
   "metadata": {},
   "outputs": [
    {
     "name": "stdout",
     "output_type": "stream",
     "text": [
      "Coeficientes: [  1.54639859 -18.00119284  -6.60698737   0.05709231 -11.39380057\n",
      "   1.29406515   2.17824585 -37.43797798  -5.8826721   16.46610955\n",
      "   6.38207564]\n",
      "RMSE= 0.4362365794262937\n"
     ]
    }
   ],
   "source": [
    "from sklearn.linear_model import LinearRegression\n",
    "linreg_rojo = LinearRegression(normalize=True)\n",
    "linreg_rojo.fit(X_rojo_train, Y_rojo_train)\n",
    "y_rojo_predict5 = linreg_rojo.predict(X_rojo_test)\n",
    "print('Coeficientes:',linreg_rojo.coef_)\n",
    "from sklearn import metrics\n",
    "print('RMSE=',np.sqrt(metrics.mean_squared_error(Y_rojo_test, y_rojo_predict5)))"
   ]
  },
  {
   "cell_type": "markdown",
   "metadata": {},
   "source": [
    "# Exercise 6.7\n",
    "\n",
    "* Estimate a ridge regression with alpha equals 0.1 and 1.\n",
    "* Compare the coefficients with the linear regression\n",
    "* Evaluate the RMSE"
   ]
  },
  {
   "cell_type": "markdown",
   "metadata": {},
   "source": [
    "**Estimate a ridge regression with alpha equals 0.1 and 1.**"
   ]
  },
  {
   "cell_type": "code",
   "execution_count": 111,
   "metadata": {},
   "outputs": [
    {
     "data": {
      "text/html": [
       "<div>\n",
       "<style scoped>\n",
       "    .dataframe tbody tr th:only-of-type {\n",
       "        vertical-align: middle;\n",
       "    }\n",
       "\n",
       "    .dataframe tbody tr th {\n",
       "        vertical-align: top;\n",
       "    }\n",
       "\n",
       "    .dataframe thead th {\n",
       "        text-align: right;\n",
       "    }\n",
       "</style>\n",
       "<table border=\"1\" class=\"dataframe\">\n",
       "  <thead>\n",
       "    <tr style=\"text-align: right;\">\n",
       "      <th></th>\n",
       "      <th>type</th>\n",
       "      <th>alpha</th>\n",
       "      <th>RMSE</th>\n",
       "    </tr>\n",
       "  </thead>\n",
       "  <tbody>\n",
       "    <tr>\n",
       "      <th>0</th>\n",
       "      <td>white</td>\n",
       "      <td>0.1</td>\n",
       "      <td>0.434159</td>\n",
       "    </tr>\n",
       "    <tr>\n",
       "      <th>1</th>\n",
       "      <td>white</td>\n",
       "      <td>1.0</td>\n",
       "      <td>0.454102</td>\n",
       "    </tr>\n",
       "  </tbody>\n",
       "</table>\n",
       "</div>"
      ],
      "text/plain": [
       "    type  alpha      RMSE\n",
       "0  white    0.1  0.434159\n",
       "1  white    1.0  0.454102"
      ]
     },
     "execution_count": 111,
     "metadata": {},
     "output_type": "execute_result"
    }
   ],
   "source": [
    "from sklearn.linear_model import Ridge\n",
    "alpha=[0.1, 1]\n",
    "cols=['type','alpha','RMSE']\n",
    "Blanco_reg_ridge=pd.DataFrame(columns=cols,data=[])\n",
    "k=0\n",
    "for i in range(len(alpha)):\n",
    "    Blanco_regridge = Ridge(alpha=alpha[i], normalize=True)\n",
    "    Blanco_regridge.fit(X_blanco_train, Y_blanco_train)\n",
    "    y_blanco_predict6 = Blanco_regridge.predict(X_blanco_test)\n",
    "    RMSE=np.sqrt(metrics.mean_squared_error(Y_blanco_test, y_blanco_predict6))\n",
    "    Blanco_reg_ridge.loc[k] = ['white',alpha[i],RMSE]\n",
    "    k+=1\n",
    "Blanco_reg_ridge"
   ]
  },
  {
   "cell_type": "code",
   "execution_count": 112,
   "metadata": {},
   "outputs": [
    {
     "data": {
      "text/html": [
       "<div>\n",
       "<style scoped>\n",
       "    .dataframe tbody tr th:only-of-type {\n",
       "        vertical-align: middle;\n",
       "    }\n",
       "\n",
       "    .dataframe tbody tr th {\n",
       "        vertical-align: top;\n",
       "    }\n",
       "\n",
       "    .dataframe thead th {\n",
       "        text-align: right;\n",
       "    }\n",
       "</style>\n",
       "<table border=\"1\" class=\"dataframe\">\n",
       "  <thead>\n",
       "    <tr style=\"text-align: right;\">\n",
       "      <th></th>\n",
       "      <th>type</th>\n",
       "      <th>alpha</th>\n",
       "      <th>RMSE</th>\n",
       "    </tr>\n",
       "  </thead>\n",
       "  <tbody>\n",
       "    <tr>\n",
       "      <th>0</th>\n",
       "      <td>red</td>\n",
       "      <td>0.1</td>\n",
       "      <td>0.444994</td>\n",
       "    </tr>\n",
       "    <tr>\n",
       "      <th>1</th>\n",
       "      <td>red</td>\n",
       "      <td>1.0</td>\n",
       "      <td>0.466077</td>\n",
       "    </tr>\n",
       "  </tbody>\n",
       "</table>\n",
       "</div>"
      ],
      "text/plain": [
       "  type  alpha      RMSE\n",
       "0  red    0.1  0.444994\n",
       "1  red    1.0  0.466077"
      ]
     },
     "execution_count": 112,
     "metadata": {},
     "output_type": "execute_result"
    }
   ],
   "source": [
    "Rojo_reg_ridge=pd.DataFrame(columns=cols,data=[])\n",
    "k=0\n",
    "for i in range(len(alpha)):\n",
    "    Rojo_regridge = Ridge(alpha=alpha[i], normalize=True)\n",
    "    Rojo_regridge.fit(X_rojo_train, Y_rojo_train)\n",
    "    y_rojo_predict6 = Rojo_regridge.predict(X_rojo_test)\n",
    "    RMSE=np.sqrt(metrics.mean_squared_error(Y_rojo_test, y_rojo_predict6))\n",
    "    Rojo_reg_ridge.loc[k] = ['red',alpha[i],RMSE]\n",
    "    k+=1\n",
    "Rojo_reg_ridge"
   ]
  },
  {
   "cell_type": "markdown",
   "metadata": {},
   "source": [
    "**Compare the coefficients with the linear regression**"
   ]
  },
  {
   "cell_type": "code",
   "execution_count": 116,
   "metadata": {},
   "outputs": [
    {
     "name": "stdout",
     "output_type": "stream",
     "text": [
      "Coeficientes_RegLin_blanco: [  -0.27102082 -112.29722231   -6.47547133    1.45233976  -60.89455299\n",
      "    2.19863622    5.71887039 -212.79058155   18.7232475    24.93145285\n",
      "   17.51296378]\n",
      "Coeficientes_RegRidge_blanco: [  -0.42181962  -29.40727441    3.11687254   -0.23325702 -158.84817625\n",
      "    0.42259903   -0.8118267     1.89182679    1.24307775   12.11433891\n",
      "    1.15268509]\n"
     ]
    }
   ],
   "source": [
    "print('Coeficientes_RegLin_blanco:',linreg_blanco.coef_)\n",
    "print('Coeficientes_RegRidge_blanco:',Blanco_regridge.coef_)"
   ]
  },
  {
   "cell_type": "markdown",
   "metadata": {},
   "source": [
    "Para el caso del vino blanco se observa que los coeficientes de la regresión Ridge son mucho mas pequeños que en la regresión lineal."
   ]
  },
  {
   "cell_type": "code",
   "execution_count": 117,
   "metadata": {},
   "outputs": [
    {
     "name": "stdout",
     "output_type": "stream",
     "text": [
      "Coeficientes_RegLin_rojo: [  1.54639859 -18.00119284  -6.60698737   0.05709231 -11.39380057\n",
      "   1.29406515   2.17824585 -37.43797798  -5.8826721   16.46610955\n",
      "   6.38207564]\n",
      "Coeficientes_RegRidge_rojo: [ 0.10634099 -5.57172943  5.6763286   0.15540337 -8.78134652  0.3948138\n",
      " -0.13807881  0.30798622  0.07755105  4.39212675  0.20967816]\n"
     ]
    }
   ],
   "source": [
    "print('Coeficientes_RegLin_rojo:',linreg_rojo.coef_)\n",
    "print('Coeficientes_RegRidge_rojo:',Rojo_regridge.coef_)"
   ]
  },
  {
   "cell_type": "markdown",
   "metadata": {},
   "source": [
    "Para este caso no se puede generalizar si los coeficientes son todos mayores o menores de una regresión a otra porque hay algunos mayores en la regresión lineal y otros mayores en la regresión Ridge."
   ]
  },
  {
   "cell_type": "markdown",
   "metadata": {},
   "source": [
    "**Evaluate the RMSE**"
   ]
  },
  {
   "cell_type": "code",
   "execution_count": 114,
   "metadata": {},
   "outputs": [
    {
     "name": "stdout",
     "output_type": "stream",
     "text": [
      "    type  alpha      RMSE\n",
      "0  white    0.1  0.434159\n"
     ]
    }
   ],
   "source": [
    "# select the best alpha with RidgeCV\n",
    "from sklearn.linear_model import RidgeCV\n",
    "ridgeregcv = RidgeCV(alphas=alpha, normalize=True, scoring='neg_mean_squared_error')\n",
    "ridgeregcv.fit(X_blanco_train, Y_blanco_train)\n",
    "ridgeregcv.alpha_\n",
    "print(Blanco_reg_ridge[Blanco_reg_ridge['alpha']==ridgeregcv.alpha_])"
   ]
  },
  {
   "cell_type": "code",
   "execution_count": 115,
   "metadata": {},
   "outputs": [
    {
     "name": "stdout",
     "output_type": "stream",
     "text": [
      "  type  alpha      RMSE\n",
      "0  red    0.1  0.444994\n"
     ]
    }
   ],
   "source": [
    "# select the best alpha with RidgeCV\n",
    "from sklearn.linear_model import RidgeCV\n",
    "ridgeregcv2 = RidgeCV(alphas=alpha, normalize=True, scoring='neg_mean_squared_error')\n",
    "ridgeregcv2.fit(X_rojo_train, Y_rojo_train)\n",
    "ridgeregcv2.alpha_\n",
    "print(Rojo_reg_ridge[Rojo_reg_ridge['alpha']==ridgeregcv2.alpha_])"
   ]
  },
  {
   "cell_type": "markdown",
   "metadata": {},
   "source": [
    "Para ambos tipos de vino el mejor modelo según el RMSE es el que considera alpha=0.1"
   ]
  },
  {
   "cell_type": "markdown",
   "metadata": {},
   "source": [
    "# Exercise 6.8\n",
    "\n",
    "* Estimate a lasso regression with alpha equals 0.01, 0.1 and 1.\n",
    "* Compare the coefficients with the linear regression\n",
    "* Evaluate the RMSE"
   ]
  },
  {
   "cell_type": "markdown",
   "metadata": {},
   "source": [
    "**Estimate a lasso regression with alpha equals 0.01, 0.1 and 1.**"
   ]
  },
  {
   "cell_type": "code",
   "execution_count": 123,
   "metadata": {},
   "outputs": [
    {
     "data": {
      "text/html": [
       "<div>\n",
       "<style scoped>\n",
       "    .dataframe tbody tr th:only-of-type {\n",
       "        vertical-align: middle;\n",
       "    }\n",
       "\n",
       "    .dataframe tbody tr th {\n",
       "        vertical-align: top;\n",
       "    }\n",
       "\n",
       "    .dataframe thead th {\n",
       "        text-align: right;\n",
       "    }\n",
       "</style>\n",
       "<table border=\"1\" class=\"dataframe\">\n",
       "  <thead>\n",
       "    <tr style=\"text-align: right;\">\n",
       "      <th></th>\n",
       "      <th>type</th>\n",
       "      <th>alpha</th>\n",
       "      <th>RMSE</th>\n",
       "    </tr>\n",
       "  </thead>\n",
       "  <tbody>\n",
       "    <tr>\n",
       "      <th>0</th>\n",
       "      <td>white</td>\n",
       "      <td>0.01</td>\n",
       "      <td>0.469779</td>\n",
       "    </tr>\n",
       "    <tr>\n",
       "      <th>1</th>\n",
       "      <td>white</td>\n",
       "      <td>0.10</td>\n",
       "      <td>0.469779</td>\n",
       "    </tr>\n",
       "    <tr>\n",
       "      <th>2</th>\n",
       "      <td>white</td>\n",
       "      <td>1.00</td>\n",
       "      <td>0.469779</td>\n",
       "    </tr>\n",
       "  </tbody>\n",
       "</table>\n",
       "</div>"
      ],
      "text/plain": [
       "    type  alpha      RMSE\n",
       "0  white   0.01  0.469779\n",
       "1  white   0.10  0.469779\n",
       "2  white   1.00  0.469779"
      ]
     },
     "execution_count": 123,
     "metadata": {},
     "output_type": "execute_result"
    }
   ],
   "source": [
    "from sklearn.linear_model import Lasso\n",
    "alpha=[0.01,0.1, 1]\n",
    "cols=['type','alpha','RMSE']\n",
    "Blanco_reg_lasso=pd.DataFrame(columns=cols,data=[])\n",
    "k=0\n",
    "for i in range(len(alpha)):\n",
    "    Blanco_reglasso = Lasso(alpha=alpha[i], normalize=True)\n",
    "    Blanco_reglasso.fit(X_blanco_train, Y_blanco_train)\n",
    "    y_blanco_predict7 = Blanco_reglasso.predict(X_blanco_test)\n",
    "    RMSE=np.sqrt(metrics.mean_squared_error(Y_blanco_test, y_blanco_predict7))\n",
    "    Blanco_reg_lasso.loc[k] = ['white',alpha[i],RMSE]\n",
    "    k+=1\n",
    "Blanco_reg_lasso"
   ]
  },
  {
   "cell_type": "code",
   "execution_count": 124,
   "metadata": {},
   "outputs": [
    {
     "data": {
      "text/html": [
       "<div>\n",
       "<style scoped>\n",
       "    .dataframe tbody tr th:only-of-type {\n",
       "        vertical-align: middle;\n",
       "    }\n",
       "\n",
       "    .dataframe tbody tr th {\n",
       "        vertical-align: top;\n",
       "    }\n",
       "\n",
       "    .dataframe thead th {\n",
       "        text-align: right;\n",
       "    }\n",
       "</style>\n",
       "<table border=\"1\" class=\"dataframe\">\n",
       "  <thead>\n",
       "    <tr style=\"text-align: right;\">\n",
       "      <th></th>\n",
       "      <th>type</th>\n",
       "      <th>alpha</th>\n",
       "      <th>RMSE</th>\n",
       "    </tr>\n",
       "  </thead>\n",
       "  <tbody>\n",
       "    <tr>\n",
       "      <th>0</th>\n",
       "      <td>red</td>\n",
       "      <td>0.01</td>\n",
       "      <td>0.498608</td>\n",
       "    </tr>\n",
       "    <tr>\n",
       "      <th>1</th>\n",
       "      <td>red</td>\n",
       "      <td>0.10</td>\n",
       "      <td>0.498608</td>\n",
       "    </tr>\n",
       "    <tr>\n",
       "      <th>2</th>\n",
       "      <td>red</td>\n",
       "      <td>1.00</td>\n",
       "      <td>0.498608</td>\n",
       "    </tr>\n",
       "  </tbody>\n",
       "</table>\n",
       "</div>"
      ],
      "text/plain": [
       "  type  alpha      RMSE\n",
       "0  red   0.01  0.498608\n",
       "1  red   0.10  0.498608\n",
       "2  red   1.00  0.498608"
      ]
     },
     "execution_count": 124,
     "metadata": {},
     "output_type": "execute_result"
    }
   ],
   "source": [
    "Rojo_reg_lasso=pd.DataFrame(columns=cols,data=[])\n",
    "k=0\n",
    "for i in range(len(alpha)):\n",
    "    Rojo_reglasso = Lasso(alpha=alpha[i], normalize=True)\n",
    "    Rojo_reglasso.fit(X_rojo_train, Y_rojo_train)\n",
    "    y_rojo_predict7 = Rojo_reglasso.predict(X_rojo_test)\n",
    "    RMSE=np.sqrt(metrics.mean_squared_error(Y_rojo_test, y_rojo_predict7))\n",
    "    Rojo_reg_lasso.loc[k] = ['red',alpha[i],RMSE]\n",
    "    k+=1\n",
    "Rojo_reg_lasso"
   ]
  },
  {
   "cell_type": "markdown",
   "metadata": {},
   "source": [
    "**Compare the coefficients with the linear regression**"
   ]
  },
  {
   "cell_type": "code",
   "execution_count": 127,
   "metadata": {},
   "outputs": [
    {
     "name": "stdout",
     "output_type": "stream",
     "text": [
      "Coeficientes_RegLin_blanco: [  -0.27102082 -112.29722231   -6.47547133    1.45233976  -60.89455299\n",
      "    2.19863622    5.71887039 -212.79058155   18.7232475    24.93145285\n",
      "   17.51296378]\n",
      "Coeficientes_RegLasso_blanco: [ 0. -0.  0. -0. -0.  0. -0.  0.  0.  0.  0.]\n",
      "Intercepto_RegLasso_blanco: 0.662485414235706\n"
     ]
    }
   ],
   "source": [
    "print('Coeficientes_RegLin_blanco:',linreg_blanco.coef_)\n",
    "print('Coeficientes_RegLasso_blanco:',Blanco_reglasso.coef_)\n",
    "print('Intercepto_RegLasso_blanco:',Blanco_reglasso.intercept_)"
   ]
  },
  {
   "cell_type": "markdown",
   "metadata": {},
   "source": [
    "Para este caso ninguno de los coeficientes aporta a la regresion Lasso y todo el aporte viene dado por el coeficiente."
   ]
  },
  {
   "cell_type": "code",
   "execution_count": 128,
   "metadata": {},
   "outputs": [
    {
     "name": "stdout",
     "output_type": "stream",
     "text": [
      "Coeficientes_RegLin_rojo: [  1.54639859 -18.00119284  -6.60698737   0.05709231 -11.39380057\n",
      "   1.29406515   2.17824585 -37.43797798  -5.8826721   16.46610955\n",
      "   6.38207564]\n",
      "Coeficientes_RegRidge_rojo: [ 0. -0.  0.  0.  0.  0. -0.  0.  0.  0.  0.]\n",
      "Intercepto_RegRidge_rojo: 0.5335120643431636\n"
     ]
    }
   ],
   "source": [
    "print('Coeficientes_RegLin_rojo:',linreg_rojo.coef_)\n",
    "print('Coeficientes_RegRidge_rojo:',Rojo_reglasso.coef_)\n",
    "print('Intercepto_RegRidge_rojo:',Rojo_reglasso.intercept_)"
   ]
  },
  {
   "cell_type": "markdown",
   "metadata": {
    "collapsed": true
   },
   "source": [
    "Para este caso no se puede generalizar si los coeficientes son todos mayores o menores de una regresión a otra porque hay algunos mayores en la regresión lineal y otros mayores en la regresión Lasso"
   ]
  },
  {
   "cell_type": "markdown",
   "metadata": {},
   "source": [
    "Para este caso ninguno de los coeficientes aporta a la regresion Lasso y todo el aporte viene dado por el coeficiente."
   ]
  },
  {
   "cell_type": "markdown",
   "metadata": {},
   "source": [
    "**Evaluate the RMSE**"
   ]
  },
  {
   "cell_type": "code",
   "execution_count": 130,
   "metadata": {},
   "outputs": [
    {
     "name": "stdout",
     "output_type": "stream",
     "text": [
      "    type  alpha      RMSE\n",
      "0  white   0.01  0.469779\n",
      "1  white   0.10  0.469779\n",
      "2  white   1.00  0.469779\n",
      "  type  alpha      RMSE\n",
      "0  red   0.01  0.498608\n",
      "1  red   0.10  0.498608\n",
      "2  red   1.00  0.498608\n"
     ]
    }
   ],
   "source": [
    "print(Blanco_reg_lasso)\n",
    "print(Rojo_reg_lasso)"
   ]
  },
  {
   "cell_type": "markdown",
   "metadata": {},
   "source": [
    "Para evaluar el RMSE en esta regresión lasso no es necesario elegir el mejor dado a que con cualquier valor de alpha se obtiene el mismo RMSE en cada uno de los tipos de vino."
   ]
  },
  {
   "cell_type": "markdown",
   "metadata": {},
   "source": [
    "# Exercise 6.9\n",
    "\n",
    "* Create a binary target\n",
    "\n",
    "* Train a logistic regression to predict wine quality (binary)\n",
    "\n",
    "* Analyze the coefficients\n",
    "\n",
    "* Evaluate the f1score"
   ]
  },
  {
   "cell_type": "markdown",
   "metadata": {},
   "source": [
    "**Train a logistic regression to predict wine quality (binary)**"
   ]
  },
  {
   "cell_type": "code",
   "execution_count": 238,
   "metadata": {},
   "outputs": [
    {
     "name": "stdout",
     "output_type": "stream",
     "text": [
      "Blanco_Acc_reglog: 0.7414965986394558 \n",
      " Rojo_Acc_reglog: 0.7291666666666666\n"
     ]
    }
   ],
   "source": [
    "from sklearn.metrics import classification_report, f1_score\n",
    "logreg_blanco1 = LogisticRegression(C=1e9, solver='liblinear')\n",
    "logreg_blanco1.fit(X_blanco_train, Y_blanco_train)\n",
    "y_blanco_predict4 = logreg_blanco1.predict(X_blanco_test)\n",
    "blanco_accuracy4=accuracy_score(Y_blanco_test, y_blanco_predict4, normalize=True)\n",
    "\n",
    "logreg_rojo1 = LogisticRegression(C=1e9, solver='liblinear')\n",
    "logreg_rojo1.fit(X_rojo_train, Y_rojo_train)\n",
    "y_rojo_predict4 = logreg_rojo1.predict(X_rojo_test)\n",
    "rojo_accuracy4=accuracy_score(Y_rojo_test, y_rojo_predict4, normalize=True)\n",
    "print('Blanco_Acc_reglog:',blanco_accuracy4,'\\n','Rojo_Acc_reglog:',rojo_accuracy4)"
   ]
  },
  {
   "cell_type": "markdown",
   "metadata": {},
   "source": [
    "**Analyze the coefficients**"
   ]
  },
  {
   "cell_type": "code",
   "execution_count": 239,
   "metadata": {},
   "outputs": [
    {
     "name": "stdout",
     "output_type": "stream",
     "text": [
      "Coeficientes_RegLog_blanco: [[  -19.88495194  -789.10087748    -1.11983376     8.95195832\n",
      "   -161.36534433    12.53174856    35.01199787 -1027.08425218\n",
      "     23.21045777   171.35069683   120.19785683]]\n"
     ]
    }
   ],
   "source": [
    "print('Coeficientes_RegLog_blanco:',logreg_blanco1.coef_)"
   ]
  },
  {
   "cell_type": "code",
   "execution_count": 240,
   "metadata": {},
   "outputs": [
    {
     "name": "stdout",
     "output_type": "stream",
     "text": [
      "Coeficientes_RegLog_rojo: [[   6.90032203 -119.7205067   -45.67074047    0.88240723 -109.09099471\n",
      "     6.52305163   12.4536095  -157.59665331  -55.12641732  112.34507775\n",
      "    39.43012093]]\n"
     ]
    }
   ],
   "source": [
    "print('Coeficientes_RegLog_rojo:',logreg_rojo1.coef_)\n"
   ]
  },
  {
   "cell_type": "markdown",
   "metadata": {},
   "source": [
    "**Evaluate the f1score**"
   ]
  },
  {
   "cell_type": "code",
   "execution_count": 241,
   "metadata": {},
   "outputs": [
    {
     "name": "stdout",
     "output_type": "stream",
     "text": [
      "             precision    recall  f1-score   support\n",
      "\n",
      "          0       0.65      0.46      0.54       483\n",
      "          1       0.77      0.88      0.82       987\n",
      "\n",
      "avg / total       0.73      0.74      0.73      1470\n",
      "\n"
     ]
    }
   ],
   "source": [
    "print(classification_report(Y_blanco_test, y_blanco_predict4))"
   ]
  },
  {
   "cell_type": "code",
   "execution_count": 242,
   "metadata": {},
   "outputs": [
    {
     "name": "stdout",
     "output_type": "stream",
     "text": [
      "             precision    recall  f1-score   support\n",
      "\n",
      "          0       0.68      0.78      0.73       222\n",
      "          1       0.79      0.68      0.73       258\n",
      "\n",
      "avg / total       0.74      0.73      0.73       480\n",
      "\n"
     ]
    }
   ],
   "source": [
    "print(classification_report(Y_rojo_test, y_rojo_predict4))"
   ]
  },
  {
   "cell_type": "markdown",
   "metadata": {},
   "source": [
    "# Exercise 6.10\n",
    "\n",
    "* Estimate a regularized logistic regression using:\n",
    "* C = 0.01, 0.1 & 1.0\n",
    "* penalty = ['l1, 'l2']\n",
    "* Compare the coefficients and the f1score"
   ]
  },
  {
   "cell_type": "code",
   "execution_count": 243,
   "metadata": {},
   "outputs": [
    {
     "data": {
      "text/html": [
       "<div>\n",
       "<style scoped>\n",
       "    .dataframe tbody tr th:only-of-type {\n",
       "        vertical-align: middle;\n",
       "    }\n",
       "\n",
       "    .dataframe tbody tr th {\n",
       "        vertical-align: top;\n",
       "    }\n",
       "\n",
       "    .dataframe thead th {\n",
       "        text-align: right;\n",
       "    }\n",
       "</style>\n",
       "<table border=\"1\" class=\"dataframe\">\n",
       "  <thead>\n",
       "    <tr style=\"text-align: right;\">\n",
       "      <th></th>\n",
       "      <th>wine</th>\n",
       "      <th>C</th>\n",
       "      <th>penalty</th>\n",
       "      <th>F1</th>\n",
       "    </tr>\n",
       "  </thead>\n",
       "  <tbody>\n",
       "    <tr>\n",
       "      <th>0</th>\n",
       "      <td>white</td>\n",
       "      <td>0.01</td>\n",
       "      <td>l1</td>\n",
       "      <td>0.803419</td>\n",
       "    </tr>\n",
       "    <tr>\n",
       "      <th>1</th>\n",
       "      <td>white</td>\n",
       "      <td>0.01</td>\n",
       "      <td>l2</td>\n",
       "      <td>0.803419</td>\n",
       "    </tr>\n",
       "    <tr>\n",
       "      <th>2</th>\n",
       "      <td>white</td>\n",
       "      <td>0.10</td>\n",
       "      <td>l1</td>\n",
       "      <td>0.803419</td>\n",
       "    </tr>\n",
       "    <tr>\n",
       "      <th>3</th>\n",
       "      <td>white</td>\n",
       "      <td>0.10</td>\n",
       "      <td>l2</td>\n",
       "      <td>0.803419</td>\n",
       "    </tr>\n",
       "    <tr>\n",
       "      <th>4</th>\n",
       "      <td>white</td>\n",
       "      <td>1.00</td>\n",
       "      <td>l1</td>\n",
       "      <td>0.791064</td>\n",
       "    </tr>\n",
       "    <tr>\n",
       "      <th>5</th>\n",
       "      <td>white</td>\n",
       "      <td>1.00</td>\n",
       "      <td>l2</td>\n",
       "      <td>0.803169</td>\n",
       "    </tr>\n",
       "  </tbody>\n",
       "</table>\n",
       "</div>"
      ],
      "text/plain": [
       "    wine     C penalty        F1\n",
       "0  white  0.01      l1  0.803419\n",
       "1  white  0.01      l2  0.803419\n",
       "2  white  0.10      l1  0.803419\n",
       "3  white  0.10      l2  0.803419\n",
       "4  white  1.00      l1  0.791064\n",
       "5  white  1.00      l2  0.803169"
      ]
     },
     "execution_count": 243,
     "metadata": {},
     "output_type": "execute_result"
    }
   ],
   "source": [
    "C=[0.01,0.1, 1]\n",
    "penalty=['l1','l2']\n",
    "cols=['wine','C','penalty','F1']\n",
    "WWine_log_reg=pd.DataFrame(columns=cols,data=[])\n",
    "k=0\n",
    "for i in range(len(C)):\n",
    "    for j in range(len(penalty)):\n",
    "        logreg_blanco = LogisticRegression(C=C[i], penalty=penalty[j], solver='liblinear')\n",
    "        logreg_blanco.fit(X_blanco_train, Y_blanco_train)\n",
    "        y_blanco_predict8 = logreg_blanco.predict(X_blanco_test)\n",
    "        blanco_accuracy8=f1_score(np.array(Y_blanco_test, dtype='float'), np.array(y_blanco_predict8, dtype='float'))\n",
    "        WWine_log_reg.loc[k] = ['white',C[i],penalty[j],blanco_accuracy8]\n",
    "        k+=1\n",
    "WWine_log_reg"
   ]
  },
  {
   "cell_type": "code",
   "execution_count": 244,
   "metadata": {},
   "outputs": [
    {
     "name": "stderr",
     "output_type": "stream",
     "text": [
      "C:\\ProgramData\\Anaconda3\\lib\\site-packages\\sklearn\\metrics\\classification.py:1135: UndefinedMetricWarning: F-score is ill-defined and being set to 0.0 due to no predicted samples.\n",
      "  'precision', 'predicted', average, warn_for)\n"
     ]
    },
    {
     "data": {
      "text/html": [
       "<div>\n",
       "<style scoped>\n",
       "    .dataframe tbody tr th:only-of-type {\n",
       "        vertical-align: middle;\n",
       "    }\n",
       "\n",
       "    .dataframe tbody tr th {\n",
       "        vertical-align: top;\n",
       "    }\n",
       "\n",
       "    .dataframe thead th {\n",
       "        text-align: right;\n",
       "    }\n",
       "</style>\n",
       "<table border=\"1\" class=\"dataframe\">\n",
       "  <thead>\n",
       "    <tr style=\"text-align: right;\">\n",
       "      <th></th>\n",
       "      <th>wine</th>\n",
       "      <th>C</th>\n",
       "      <th>penalty</th>\n",
       "      <th>F1</th>\n",
       "    </tr>\n",
       "  </thead>\n",
       "  <tbody>\n",
       "    <tr>\n",
       "      <th>0</th>\n",
       "      <td>Rojo</td>\n",
       "      <td>0.01</td>\n",
       "      <td>l1</td>\n",
       "      <td>0.000000</td>\n",
       "    </tr>\n",
       "    <tr>\n",
       "      <th>1</th>\n",
       "      <td>Rojo</td>\n",
       "      <td>0.01</td>\n",
       "      <td>l2</td>\n",
       "      <td>0.699187</td>\n",
       "    </tr>\n",
       "    <tr>\n",
       "      <th>2</th>\n",
       "      <td>Rojo</td>\n",
       "      <td>0.10</td>\n",
       "      <td>l1</td>\n",
       "      <td>0.683502</td>\n",
       "    </tr>\n",
       "    <tr>\n",
       "      <th>3</th>\n",
       "      <td>Rojo</td>\n",
       "      <td>0.10</td>\n",
       "      <td>l2</td>\n",
       "      <td>0.679376</td>\n",
       "    </tr>\n",
       "    <tr>\n",
       "      <th>4</th>\n",
       "      <td>Rojo</td>\n",
       "      <td>1.00</td>\n",
       "      <td>l1</td>\n",
       "      <td>0.678899</td>\n",
       "    </tr>\n",
       "    <tr>\n",
       "      <th>5</th>\n",
       "      <td>Rojo</td>\n",
       "      <td>1.00</td>\n",
       "      <td>l2</td>\n",
       "      <td>0.690647</td>\n",
       "    </tr>\n",
       "  </tbody>\n",
       "</table>\n",
       "</div>"
      ],
      "text/plain": [
       "   wine     C penalty        F1\n",
       "0  Rojo  0.01      l1  0.000000\n",
       "1  Rojo  0.01      l2  0.699187\n",
       "2  Rojo  0.10      l1  0.683502\n",
       "3  Rojo  0.10      l2  0.679376\n",
       "4  Rojo  1.00      l1  0.678899\n",
       "5  Rojo  1.00      l2  0.690647"
      ]
     },
     "execution_count": 244,
     "metadata": {},
     "output_type": "execute_result"
    }
   ],
   "source": [
    "C=[0.01,0.1, 1]\n",
    "penalty=['l1','l2']\n",
    "cols=['wine','C','penalty','F1']\n",
    "WWine_log_reg=pd.DataFrame(columns=cols,data=[])\n",
    "k=0\n",
    "for i in range(len(C)):\n",
    "    for j in range(len(penalty)):\n",
    "        logreg_rojo = LogisticRegression(C=C[i], penalty=penalty[j], solver='liblinear')\n",
    "        logreg_rojo.fit(X_rojo_train, Y_rojo_train)\n",
    "        y_rojo_predict8 = logreg_rojo.predict(X_rojo_test)\n",
    "        rojo_accuracy8=f1_score(np.array(Y_rojo_test, dtype='float'), np.array(y_rojo_predict8, dtype='float'))\n",
    "        WWine_log_reg.loc[k] = ['Rojo',C[i],penalty[j],rojo_accuracy8]\n",
    "\n",
    "        k+=1\n",
    "WWine_log_reg"
   ]
  },
  {
   "cell_type": "markdown",
   "metadata": {},
   "source": [
    "A diferencia del vino blanco, en el vino rojo difieren cada uno de los resultados variando los parámetros cde la regresión, para este el mejor F1-Score se da cuando C=0.01 y se utiliza l2 como penalidad, mientras que para el vino blanco las primeras 4 combianciones nos arrojan el mismo resultado de F1-Score."
   ]
  },
  {
   "cell_type": "code",
   "execution_count": 246,
   "metadata": {},
   "outputs": [
    {
     "name": "stdout",
     "output_type": "stream",
     "text": [
      "Coeficientes_RegLog_Blanco: [[  -19.88495194  -789.10087748    -1.11983376     8.95195832\n",
      "   -161.36534433    12.53174856    35.01199787 -1027.08425218\n",
      "     23.21045777   171.35069683   120.19785683]]\n",
      "Coeficientes_RegLog_Blanco2: [[ 2.86945911e-02 -1.03031391e-03  2.10508504e-03 -8.32462188e-03\n",
      "  -1.99765636e-04  3.26336246e-01  2.37748524e-01  5.96623367e-03\n",
      "   2.12961643e-02  3.93924603e-03  1.22924597e-01]]\n"
     ]
    }
   ],
   "source": [
    "logreg_blanco2 = LogisticRegression(C=0.01,penalty='l2' , solver='liblinear')\n",
    "logreg_blanco2.fit(X_blanco_train, Y_blanco_train)\n",
    "y_blanco_predict9 = logreg_blanco2.predict(X_blanco_test)\n",
    "\n",
    "\n",
    "logreg_rojo2 = LogisticRegression(C=0.01,penalty='l2', solver='liblinear')\n",
    "logreg_rojo2.fit(X_rojo_train, Y_rojo_train)\n",
    "y_rojo_predict9 = logreg_rojo2.predict(X_rojo_test)\n",
    "\n",
    "print('Coeficientes_RegLog_Blanco:',logreg_blanco1.coef_)\n",
    "print('Coeficientes_RegLog_Blanco2:',logreg_blanco2.coef_)"
   ]
  },
  {
   "cell_type": "code",
   "execution_count": 247,
   "metadata": {},
   "outputs": [
    {
     "name": "stdout",
     "output_type": "stream",
     "text": [
      "Coeficientes_Reglog_rojo: [[   6.90032203 -119.7205067   -45.67074047    0.88240723 -109.09099471\n",
      "     6.52305163   12.4536095  -157.59665331  -55.12641732  112.34507775\n",
      "    39.43012093]]\n",
      "Coeficientes_Reglog_rojo: [[ 0.13882872 -0.00311358  0.01045369  0.03243711  0.00055912  0.11061618\n",
      "  -0.07986812  0.01195043  0.03787738  0.01350831  0.18768045]]\n"
     ]
    }
   ],
   "source": [
    "print('Coeficientes_Reglog_rojo:',logreg_rojo1.coef_)\n",
    "print('Coeficientes_Reglog_rojo:',logreg_rojo2.coef_)"
   ]
  },
  {
   "cell_type": "markdown",
   "metadata": {},
   "source": [
    "Al comparar la regresion logistica con los valores por defecto vs la regresion logistica con los valores ajustados segun los resultados optimos, se observan que para algunas de las variables varian los coeficientes indicando mayor o menor peso en cada regresion pero sin poderse generalizar de algun modo."
   ]
  }
 ],
 "metadata": {
  "kernelspec": {
   "display_name": "Python 3",
   "language": "python",
   "name": "python3"
  },
  "language_info": {
   "codemirror_mode": {
    "name": "ipython",
    "version": 3
   },
   "file_extension": ".py",
   "mimetype": "text/x-python",
   "name": "python",
   "nbconvert_exporter": "python",
   "pygments_lexer": "ipython3",
   "version": "3.6.5"
  }
 },
 "nbformat": 4,
 "nbformat_minor": 1
}
